{
  "nbformat": 4,
  "nbformat_minor": 0,
  "metadata": {
    "colab": {
      "name": "candidate elimination.ipynb",
      "provenance": [],
      "collapsed_sections": []
    },
    "kernelspec": {
      "name": "python3",
      "display_name": "Python 3"
    },
    "language_info": {
      "name": "python"
    }
  },
  "cells": [
    {
      "cell_type": "code",
      "execution_count": 30,
      "metadata": {
        "id": "hSLXo72osQe3"
      },
      "outputs": [],
      "source": [
        "import csv \n",
        "  \n",
        "with open('trainingexamplesT.csv') as csvFile: \n",
        "     data = [tuple(line) for line in csv.reader(csvFile)] "
      ]
    },
    {
      "cell_type": "code",
      "source": [
        "def domain(): \n",
        "  D = [] \n",
        "  for i in range(len(data[0])): \n",
        "    D.append(list(set([ele[i] for ele in data]))) \n",
        "  return D\n",
        "D = domain() "
      ],
      "metadata": {
        "id": "JaHQggI2jeKk"
      },
      "execution_count": 31,
      "outputs": []
    },
    {
      "cell_type": "code",
      "source": [
        "def is_consistent(h1, h2): \n",
        "  for x, y in zip(h1, h2): \n",
        "    if x != \"?\" and (x == \"o\" or x != y): \n",
        "      return False \n",
        "  return True "
      ],
      "metadata": {
        "id": "zUIGFBYmjlzp"
      },
      "execution_count": 32,
      "outputs": []
    },
    {
      "cell_type": "code",
      "source": [
        "def candidate_elimination(): \n",
        "  G = {('?',) * (len(data[0]) - 1), } \n",
        "  S = ['o'] * (len(data[0]) - 1) \n",
        "  no = 0 \n",
        "  print(\"\\n G[{0}]:\".format(no), G) \n",
        "  print(\"\\n S[{0}]:\".format(no), S) \n",
        "  for item in data: \n",
        "    no += 1 \n",
        "    inp, res = item[:-1], item[-1] \n",
        "    if res in \"Yy\": \n",
        "      i = 0 \n",
        "      G = {g for g in G if is_consistent(g, inp)} \n",
        "      for s, x in zip(S, inp):\n",
        "        if not s == x:\n",
        "          S[i] = '?' if s != 'o' else x \n",
        "        i += 1\n",
        "    else:\n",
        "      Gprev = G.copy() \n",
        "      for g in Gprev:\n",
        "        if g not in G: \n",
        "          continue \n",
        "        for i in range(len(g)): \n",
        "          if g[i] == \"?\": \n",
        "            for val in D[i]: \n",
        "              if inp[i] != val and val == S[i]:\n",
        "                g_new = g[:i] + (val,) + g[i + 1:] \n",
        "                G.add(g_new) \n",
        "          else: \n",
        "            G.add(g) \n",
        "        G.difference_update([h for h in G if any([is_consistent(h, g1) for g1 in G if h != g1])])\n",
        "    print(\"\\n G[{0}]:\".format(no), G) \n",
        "    print(\"\\n S[{0}]:\".format(no), S)\n",
        "candidate_elimination()"
      ],
      "metadata": {
        "colab": {
          "base_uri": "https://localhost:8080/"
        },
        "id": "EmoyTVFUjqdu",
        "outputId": "a949c0f2-e570-4f77-ba1e-8bc88be230f3"
      },
      "execution_count": 35,
      "outputs": [
        {
          "output_type": "stream",
          "name": "stdout",
          "text": [
            "\n",
            " G[0]: {('?', '?', '?', '?', '?', '?')}\n",
            "\n",
            " S[0]: ['o', 'o', 'o', 'o', 'o', 'o']\n",
            "\n",
            " G[1]: {('?', '?', '?', '?', '?', '?')}\n",
            "\n",
            " S[1]: ['Sunny', 'Warm', 'Normal', 'Strong', 'Warm', 'Same']\n",
            "\n",
            " G[2]: {('?', '?', '?', '?', '?', '?')}\n",
            "\n",
            " S[2]: ['Sunny', 'Warm', '?', 'Strong', 'Warm', 'Same']\n",
            "\n",
            " G[3]: {('?', 'Warm', '?', '?', '?', '?'), ('?', '?', '?', '?', '?', 'Same'), ('Sunny', '?', '?', '?', '?', '?')}\n",
            "\n",
            " S[3]: ['Sunny', 'Warm', '?', 'Strong', 'Warm', 'Same']\n",
            "\n",
            " G[4]: {('?', 'Warm', '?', '?', '?', '?'), ('Sunny', '?', '?', '?', '?', '?')}\n",
            "\n",
            " S[4]: ['Sunny', 'Warm', '?', 'Strong', '?', '?']\n"
          ]
        }
      ]
    },
    {
      "cell_type": "markdown",
      "source": [
        "# New section"
      ],
      "metadata": {
        "id": "1JUeLEVjuXzx"
      }
    }
  ]
}